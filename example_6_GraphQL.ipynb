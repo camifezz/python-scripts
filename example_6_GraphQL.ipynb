{
 "cells": [
  {
   "cell_type": "code",
   "execution_count": 1,
   "id": "47c75664",
   "metadata": {},
   "outputs": [],
   "source": [
    "import wabi\n",
    "from wabi import graphql2pay"
   ]
  },
  {
   "cell_type": "code",
   "execution_count": 2,
   "id": "d9e9bb17",
   "metadata": {},
   "outputs": [],
   "source": [
    "import json\n",
    "import requests as req\n",
    "import pandas as pd"
   ]
  },
  {
   "cell_type": "code",
   "execution_count": 3,
   "id": "f3669719",
   "metadata": {},
   "outputs": [
    {
     "name": "stderr",
     "output_type": "stream",
     "text": [
      "C:\\Users\\camilafernandez_wabi\\AppData\\Local\\Programs\\Python\\Python310\\lib\\site-packages\\wabi\\maps\\__init__.py:25: FutureWarning: The frame.append method is deprecated and will be removed from pandas in a future version. Use pandas.concat instead.\n",
      "  zonas=zonas.append(ciudad.zonas,ignore_index=True)\n",
      "C:\\Users\\camilafernandez_wabi\\AppData\\Local\\Programs\\Python\\Python310\\lib\\site-packages\\wabi\\maps\\__init__.py:25: FutureWarning: The frame.append method is deprecated and will be removed from pandas in a future version. Use pandas.concat instead.\n",
      "  zonas=zonas.append(ciudad.zonas,ignore_index=True)\n",
      "C:\\Users\\camilafernandez_wabi\\AppData\\Local\\Programs\\Python\\Python310\\lib\\site-packages\\wabi\\maps\\__init__.py:25: FutureWarning: The frame.append method is deprecated and will be removed from pandas in a future version. Use pandas.concat instead.\n",
      "  zonas=zonas.append(ciudad.zonas,ignore_index=True)\n",
      "C:\\Users\\camilafernandez_wabi\\AppData\\Local\\Programs\\Python\\Python310\\lib\\site-packages\\wabi\\maps\\__init__.py:25: FutureWarning: The frame.append method is deprecated and will be removed from pandas in a future version. Use pandas.concat instead.\n",
      "  zonas=zonas.append(ciudad.zonas,ignore_index=True)\n",
      "C:\\Users\\camilafernandez_wabi\\AppData\\Local\\Programs\\Python\\Python310\\lib\\site-packages\\wabi\\maps\\__init__.py:25: FutureWarning: The frame.append method is deprecated and will be removed from pandas in a future version. Use pandas.concat instead.\n",
      "  zonas=zonas.append(ciudad.zonas,ignore_index=True)\n",
      "C:\\Users\\camilafernandez_wabi\\AppData\\Local\\Programs\\Python\\Python310\\lib\\site-packages\\wabi\\maps\\__init__.py:25: FutureWarning: The frame.append method is deprecated and will be removed from pandas in a future version. Use pandas.concat instead.\n",
      "  zonas=zonas.append(ciudad.zonas,ignore_index=True)\n",
      "C:\\Users\\camilafernandez_wabi\\AppData\\Local\\Programs\\Python\\Python310\\lib\\site-packages\\wabi\\maps\\__init__.py:25: FutureWarning: The frame.append method is deprecated and will be removed from pandas in a future version. Use pandas.concat instead.\n",
      "  zonas=zonas.append(ciudad.zonas,ignore_index=True)\n",
      "C:\\Users\\camilafernandez_wabi\\AppData\\Local\\Programs\\Python\\Python310\\lib\\site-packages\\wabi\\maps\\__init__.py:25: FutureWarning: The frame.append method is deprecated and will be removed from pandas in a future version. Use pandas.concat instead.\n",
      "  zonas=zonas.append(ciudad.zonas,ignore_index=True)\n",
      "C:\\Users\\camilafernandez_wabi\\AppData\\Local\\Programs\\Python\\Python310\\lib\\site-packages\\wabi\\maps\\__init__.py:25: FutureWarning: The frame.append method is deprecated and will be removed from pandas in a future version. Use pandas.concat instead.\n",
      "  zonas=zonas.append(ciudad.zonas,ignore_index=True)\n",
      "C:\\Users\\camilafernandez_wabi\\AppData\\Local\\Programs\\Python\\Python310\\lib\\site-packages\\wabi\\maps\\__init__.py:25: FutureWarning: The frame.append method is deprecated and will be removed from pandas in a future version. Use pandas.concat instead.\n",
      "  zonas=zonas.append(ciudad.zonas,ignore_index=True)\n",
      "C:\\Users\\camilafernandez_wabi\\AppData\\Local\\Programs\\Python\\Python310\\lib\\site-packages\\wabi\\maps\\__init__.py:25: FutureWarning: The frame.append method is deprecated and will be removed from pandas in a future version. Use pandas.concat instead.\n",
      "  zonas=zonas.append(ciudad.zonas,ignore_index=True)\n",
      "C:\\Users\\camilafernandez_wabi\\AppData\\Local\\Programs\\Python\\Python310\\lib\\site-packages\\wabi\\maps\\__init__.py:25: FutureWarning: The frame.append method is deprecated and will be removed from pandas in a future version. Use pandas.concat instead.\n",
      "  zonas=zonas.append(ciudad.zonas,ignore_index=True)\n",
      "C:\\Users\\camilafernandez_wabi\\AppData\\Local\\Programs\\Python\\Python310\\lib\\site-packages\\wabi\\maps\\__init__.py:25: FutureWarning: The frame.append method is deprecated and will be removed from pandas in a future version. Use pandas.concat instead.\n",
      "  zonas=zonas.append(ciudad.zonas,ignore_index=True)\n",
      "C:\\Users\\camilafernandez_wabi\\AppData\\Local\\Programs\\Python\\Python310\\lib\\site-packages\\wabi\\maps\\__init__.py:25: FutureWarning: The frame.append method is deprecated and will be removed from pandas in a future version. Use pandas.concat instead.\n",
      "  zonas=zonas.append(ciudad.zonas,ignore_index=True)\n",
      "C:\\Users\\camilafernandez_wabi\\AppData\\Local\\Programs\\Python\\Python310\\lib\\site-packages\\wabi\\maps\\__init__.py:25: FutureWarning: The frame.append method is deprecated and will be removed from pandas in a future version. Use pandas.concat instead.\n",
      "  zonas=zonas.append(ciudad.zonas,ignore_index=True)\n",
      "C:\\Users\\camilafernandez_wabi\\AppData\\Local\\Programs\\Python\\Python310\\lib\\site-packages\\wabi\\maps\\__init__.py:25: FutureWarning: The frame.append method is deprecated and will be removed from pandas in a future version. Use pandas.concat instead.\n",
      "  zonas=zonas.append(ciudad.zonas,ignore_index=True)\n",
      "C:\\Users\\camilafernandez_wabi\\AppData\\Local\\Programs\\Python\\Python310\\lib\\site-packages\\wabi\\maps\\__init__.py:25: FutureWarning: The frame.append method is deprecated and will be removed from pandas in a future version. Use pandas.concat instead.\n",
      "  zonas=zonas.append(ciudad.zonas,ignore_index=True)\n",
      "C:\\Users\\camilafernandez_wabi\\AppData\\Local\\Programs\\Python\\Python310\\lib\\site-packages\\wabi\\maps\\__init__.py:25: FutureWarning: The frame.append method is deprecated and will be removed from pandas in a future version. Use pandas.concat instead.\n",
      "  zonas=zonas.append(ciudad.zonas,ignore_index=True)\n",
      "C:\\Users\\camilafernandez_wabi\\AppData\\Local\\Programs\\Python\\Python310\\lib\\site-packages\\wabi\\maps\\__init__.py:25: FutureWarning: The frame.append method is deprecated and will be removed from pandas in a future version. Use pandas.concat instead.\n",
      "  zonas=zonas.append(ciudad.zonas,ignore_index=True)\n",
      "C:\\Users\\camilafernandez_wabi\\AppData\\Local\\Programs\\Python\\Python310\\lib\\site-packages\\wabi\\maps\\__init__.py:25: FutureWarning: The frame.append method is deprecated and will be removed from pandas in a future version. Use pandas.concat instead.\n",
      "  zonas=zonas.append(ciudad.zonas,ignore_index=True)\n",
      "C:\\Users\\camilafernandez_wabi\\AppData\\Local\\Programs\\Python\\Python310\\lib\\site-packages\\wabi\\maps\\__init__.py:25: FutureWarning: The frame.append method is deprecated and will be removed from pandas in a future version. Use pandas.concat instead.\n",
      "  zonas=zonas.append(ciudad.zonas,ignore_index=True)\n",
      "C:\\Users\\camilafernandez_wabi\\AppData\\Local\\Programs\\Python\\Python310\\lib\\site-packages\\wabi\\maps_2b\\__init__.py:28: FutureWarning: The frame.append method is deprecated and will be removed from pandas in a future version. Use pandas.concat instead.\n",
      "  zonas=zonas.append(ciudad.zonas,ignore_index=True)\n",
      "C:\\Users\\camilafernandez_wabi\\AppData\\Local\\Programs\\Python\\Python310\\lib\\site-packages\\wabi\\maps_2b\\__init__.py:28: FutureWarning: The frame.append method is deprecated and will be removed from pandas in a future version. Use pandas.concat instead.\n",
      "  zonas=zonas.append(ciudad.zonas,ignore_index=True)\n",
      "C:\\Users\\camilafernandez_wabi\\AppData\\Local\\Programs\\Python\\Python310\\lib\\site-packages\\wabi\\maps_2b\\__init__.py:28: FutureWarning: The frame.append method is deprecated and will be removed from pandas in a future version. Use pandas.concat instead.\n",
      "  zonas=zonas.append(ciudad.zonas,ignore_index=True)\n",
      "C:\\Users\\camilafernandez_wabi\\AppData\\Local\\Programs\\Python\\Python310\\lib\\site-packages\\wabi\\maps_2b\\__init__.py:28: FutureWarning: The frame.append method is deprecated and will be removed from pandas in a future version. Use pandas.concat instead.\n",
      "  zonas=zonas.append(ciudad.zonas,ignore_index=True)\n",
      "C:\\Users\\camilafernandez_wabi\\AppData\\Local\\Programs\\Python\\Python310\\lib\\site-packages\\wabi\\maps_2b\\__init__.py:28: FutureWarning: The frame.append method is deprecated and will be removed from pandas in a future version. Use pandas.concat instead.\n",
      "  zonas=zonas.append(ciudad.zonas,ignore_index=True)\n",
      "C:\\Users\\camilafernandez_wabi\\AppData\\Local\\Programs\\Python\\Python310\\lib\\site-packages\\wabi\\maps_2b\\__init__.py:28: FutureWarning: The frame.append method is deprecated and will be removed from pandas in a future version. Use pandas.concat instead.\n",
      "  zonas=zonas.append(ciudad.zonas,ignore_index=True)\n",
      "C:\\Users\\camilafernandez_wabi\\AppData\\Local\\Programs\\Python\\Python310\\lib\\site-packages\\wabi\\maps_2b\\__init__.py:28: FutureWarning: The frame.append method is deprecated and will be removed from pandas in a future version. Use pandas.concat instead.\n",
      "  zonas=zonas.append(ciudad.zonas,ignore_index=True)\n",
      "C:\\Users\\camilafernandez_wabi\\AppData\\Local\\Programs\\Python\\Python310\\lib\\site-packages\\wabi\\maps_2b\\__init__.py:28: FutureWarning: The frame.append method is deprecated and will be removed from pandas in a future version. Use pandas.concat instead.\n",
      "  zonas=zonas.append(ciudad.zonas,ignore_index=True)\n",
      "C:\\Users\\camilafernandez_wabi\\AppData\\Local\\Programs\\Python\\Python310\\lib\\site-packages\\wabi\\maps_2b\\__init__.py:28: FutureWarning: The frame.append method is deprecated and will be removed from pandas in a future version. Use pandas.concat instead.\n",
      "  zonas=zonas.append(ciudad.zonas,ignore_index=True)\n",
      "C:\\Users\\camilafernandez_wabi\\AppData\\Local\\Programs\\Python\\Python310\\lib\\site-packages\\wabi\\maps_2b\\__init__.py:28: FutureWarning: The frame.append method is deprecated and will be removed from pandas in a future version. Use pandas.concat instead.\n",
      "  zonas=zonas.append(ciudad.zonas,ignore_index=True)\n"
     ]
    },
    {
     "name": "stderr",
     "output_type": "stream",
     "text": [
      "C:\\Users\\camilafernandez_wabi\\AppData\\Local\\Programs\\Python\\Python310\\lib\\site-packages\\wabi\\maps_2b\\__init__.py:28: FutureWarning: The frame.append method is deprecated and will be removed from pandas in a future version. Use pandas.concat instead.\n",
      "  zonas=zonas.append(ciudad.zonas,ignore_index=True)\n",
      "C:\\Users\\camilafernandez_wabi\\AppData\\Local\\Programs\\Python\\Python310\\lib\\site-packages\\wabi\\maps_2b\\__init__.py:28: FutureWarning: The frame.append method is deprecated and will be removed from pandas in a future version. Use pandas.concat instead.\n",
      "  zonas=zonas.append(ciudad.zonas,ignore_index=True)\n",
      "C:\\Users\\camilafernandez_wabi\\AppData\\Local\\Programs\\Python\\Python310\\lib\\site-packages\\wabi\\maps_2b\\__init__.py:28: FutureWarning: The frame.append method is deprecated and will be removed from pandas in a future version. Use pandas.concat instead.\n",
      "  zonas=zonas.append(ciudad.zonas,ignore_index=True)\n",
      "C:\\Users\\camilafernandez_wabi\\AppData\\Local\\Programs\\Python\\Python310\\lib\\site-packages\\wabi\\maps_2b\\__init__.py:28: FutureWarning: The frame.append method is deprecated and will be removed from pandas in a future version. Use pandas.concat instead.\n",
      "  zonas=zonas.append(ciudad.zonas,ignore_index=True)\n",
      "C:\\Users\\camilafernandez_wabi\\AppData\\Local\\Programs\\Python\\Python310\\lib\\site-packages\\wabi\\maps_2b\\__init__.py:28: FutureWarning: The frame.append method is deprecated and will be removed from pandas in a future version. Use pandas.concat instead.\n",
      "  zonas=zonas.append(ciudad.zonas,ignore_index=True)\n",
      "C:\\Users\\camilafernandez_wabi\\AppData\\Local\\Programs\\Python\\Python310\\lib\\site-packages\\wabi\\maps_2b\\__init__.py:28: FutureWarning: The frame.append method is deprecated and will be removed from pandas in a future version. Use pandas.concat instead.\n",
      "  zonas=zonas.append(ciudad.zonas,ignore_index=True)\n",
      "C:\\Users\\camilafernandez_wabi\\AppData\\Local\\Programs\\Python\\Python310\\lib\\site-packages\\wabi\\maps_2b\\__init__.py:28: FutureWarning: The frame.append method is deprecated and will be removed from pandas in a future version. Use pandas.concat instead.\n",
      "  zonas=zonas.append(ciudad.zonas,ignore_index=True)\n",
      "C:\\Users\\camilafernandez_wabi\\AppData\\Local\\Programs\\Python\\Python310\\lib\\site-packages\\wabi\\maps_2b\\__init__.py:28: FutureWarning: The frame.append method is deprecated and will be removed from pandas in a future version. Use pandas.concat instead.\n",
      "  zonas=zonas.append(ciudad.zonas,ignore_index=True)\n",
      "C:\\Users\\camilafernandez_wabi\\AppData\\Local\\Programs\\Python\\Python310\\lib\\site-packages\\wabi\\maps_2b\\__init__.py:28: FutureWarning: The frame.append method is deprecated and will be removed from pandas in a future version. Use pandas.concat instead.\n",
      "  zonas=zonas.append(ciudad.zonas,ignore_index=True)\n",
      "C:\\Users\\camilafernandez_wabi\\AppData\\Local\\Programs\\Python\\Python310\\lib\\site-packages\\wabi\\maps_2b\\__init__.py:28: FutureWarning: The frame.append method is deprecated and will be removed from pandas in a future version. Use pandas.concat instead.\n",
      "  zonas=zonas.append(ciudad.zonas,ignore_index=True)\n",
      "C:\\Users\\camilafernandez_wabi\\AppData\\Local\\Programs\\Python\\Python310\\lib\\site-packages\\wabi\\maps_2b\\__init__.py:28: FutureWarning: The frame.append method is deprecated and will be removed from pandas in a future version. Use pandas.concat instead.\n",
      "  zonas=zonas.append(ciudad.zonas,ignore_index=True)\n",
      "C:\\Users\\camilafernandez_wabi\\AppData\\Local\\Programs\\Python\\Python310\\lib\\site-packages\\wabi\\maps_2b\\__init__.py:28: FutureWarning: The frame.append method is deprecated and will be removed from pandas in a future version. Use pandas.concat instead.\n",
      "  zonas=zonas.append(ciudad.zonas,ignore_index=True)\n",
      "C:\\Users\\camilafernandez_wabi\\AppData\\Local\\Programs\\Python\\Python310\\lib\\site-packages\\wabi\\maps_2b\\__init__.py:28: FutureWarning: The frame.append method is deprecated and will be removed from pandas in a future version. Use pandas.concat instead.\n",
      "  zonas=zonas.append(ciudad.zonas,ignore_index=True)\n",
      "C:\\Users\\camilafernandez_wabi\\AppData\\Local\\Programs\\Python\\Python310\\lib\\site-packages\\wabi\\maps_2b\\__init__.py:28: FutureWarning: The frame.append method is deprecated and will be removed from pandas in a future version. Use pandas.concat instead.\n",
      "  zonas=zonas.append(ciudad.zonas,ignore_index=True)\n",
      "C:\\Users\\camilafernandez_wabi\\AppData\\Local\\Programs\\Python\\Python310\\lib\\site-packages\\wabi\\maps_2b\\__init__.py:28: FutureWarning: The frame.append method is deprecated and will be removed from pandas in a future version. Use pandas.concat instead.\n",
      "  zonas=zonas.append(ciudad.zonas,ignore_index=True)\n",
      "C:\\Users\\camilafernandez_wabi\\AppData\\Local\\Programs\\Python\\Python310\\lib\\site-packages\\wabi\\maps_2b\\__init__.py:28: FutureWarning: The frame.append method is deprecated and will be removed from pandas in a future version. Use pandas.concat instead.\n",
      "  zonas=zonas.append(ciudad.zonas,ignore_index=True)\n",
      "C:\\Users\\camilafernandez_wabi\\AppData\\Local\\Programs\\Python\\Python310\\lib\\site-packages\\wabi\\maps_2b\\__init__.py:28: FutureWarning: The frame.append method is deprecated and will be removed from pandas in a future version. Use pandas.concat instead.\n",
      "  zonas=zonas.append(ciudad.zonas,ignore_index=True)\n",
      "C:\\Users\\camilafernandez_wabi\\AppData\\Local\\Programs\\Python\\Python310\\lib\\site-packages\\wabi\\maps_2b\\__init__.py:28: FutureWarning: The frame.append method is deprecated and will be removed from pandas in a future version. Use pandas.concat instead.\n",
      "  zonas=zonas.append(ciudad.zonas,ignore_index=True)\n",
      "C:\\Users\\camilafernandez_wabi\\AppData\\Local\\Programs\\Python\\Python310\\lib\\site-packages\\wabi\\maps_2b\\__init__.py:28: FutureWarning: The frame.append method is deprecated and will be removed from pandas in a future version. Use pandas.concat instead.\n",
      "  zonas=zonas.append(ciudad.zonas,ignore_index=True)\n",
      "C:\\Users\\camilafernandez_wabi\\AppData\\Local\\Programs\\Python\\Python310\\lib\\site-packages\\wabi\\maps_2b\\__init__.py:28: FutureWarning: The frame.append method is deprecated and will be removed from pandas in a future version. Use pandas.concat instead.\n",
      "  zonas=zonas.append(ciudad.zonas,ignore_index=True)\n",
      "C:\\Users\\camilafernandez_wabi\\AppData\\Local\\Programs\\Python\\Python310\\lib\\site-packages\\wabi\\maps_2b\\__init__.py:28: FutureWarning: The frame.append method is deprecated and will be removed from pandas in a future version. Use pandas.concat instead.\n",
      "  zonas=zonas.append(ciudad.zonas,ignore_index=True)\n",
      "C:\\Users\\camilafernandez_wabi\\AppData\\Local\\Programs\\Python\\Python310\\lib\\site-packages\\wabi\\maps_2b\\__init__.py:28: FutureWarning: The frame.append method is deprecated and will be removed from pandas in a future version. Use pandas.concat instead.\n",
      "  zonas=zonas.append(ciudad.zonas,ignore_index=True)\n",
      "C:\\Users\\camilafernandez_wabi\\AppData\\Local\\Programs\\Python\\Python310\\lib\\site-packages\\wabi\\maps_2b\\__init__.py:28: FutureWarning: The frame.append method is deprecated and will be removed from pandas in a future version. Use pandas.concat instead.\n",
      "  zonas=zonas.append(ciudad.zonas,ignore_index=True)\n",
      "C:\\Users\\camilafernandez_wabi\\AppData\\Local\\Programs\\Python\\Python310\\lib\\site-packages\\wabi\\maps_2b\\__init__.py:28: FutureWarning: The frame.append method is deprecated and will be removed from pandas in a future version. Use pandas.concat instead.\n",
      "  zonas=zonas.append(ciudad.zonas,ignore_index=True)\n",
      "C:\\Users\\camilafernandez_wabi\\AppData\\Local\\Programs\\Python\\Python310\\lib\\site-packages\\wabi\\maps_2b\\__init__.py:28: FutureWarning: The frame.append method is deprecated and will be removed from pandas in a future version. Use pandas.concat instead.\n",
      "  zonas=zonas.append(ciudad.zonas,ignore_index=True)\n",
      "C:\\Users\\camilafernandez_wabi\\AppData\\Local\\Programs\\Python\\Python310\\lib\\site-packages\\wabi\\maps_2b\\__init__.py:28: FutureWarning: The frame.append method is deprecated and will be removed from pandas in a future version. Use pandas.concat instead.\n",
      "  zonas=zonas.append(ciudad.zonas,ignore_index=True)\n",
      "C:\\Users\\camilafernandez_wabi\\AppData\\Local\\Programs\\Python\\Python310\\lib\\site-packages\\wabi\\maps_2b\\__init__.py:28: FutureWarning: The frame.append method is deprecated and will be removed from pandas in a future version. Use pandas.concat instead.\n",
      "  zonas=zonas.append(ciudad.zonas,ignore_index=True)\n",
      "C:\\Users\\camilafernandez_wabi\\AppData\\Local\\Programs\\Python\\Python310\\lib\\site-packages\\wabi\\maps_2b\\__init__.py:28: FutureWarning: The frame.append method is deprecated and will be removed from pandas in a future version. Use pandas.concat instead.\n",
      "  zonas=zonas.append(ciudad.zonas,ignore_index=True)\n",
      "C:\\Users\\camilafernandez_wabi\\AppData\\Local\\Programs\\Python\\Python310\\lib\\site-packages\\wabi\\maps_2b\\__init__.py:28: FutureWarning: The frame.append method is deprecated and will be removed from pandas in a future version. Use pandas.concat instead.\n",
      "  zonas=zonas.append(ciudad.zonas,ignore_index=True)\n",
      "C:\\Users\\camilafernandez_wabi\\AppData\\Local\\Programs\\Python\\Python310\\lib\\site-packages\\wabi\\maps_2b\\__init__.py:28: FutureWarning: The frame.append method is deprecated and will be removed from pandas in a future version. Use pandas.concat instead.\n",
      "  zonas=zonas.append(ciudad.zonas,ignore_index=True)\n",
      "C:\\Users\\camilafernandez_wabi\\AppData\\Local\\Programs\\Python\\Python310\\lib\\site-packages\\wabi\\maps_2b\\__init__.py:28: FutureWarning: The frame.append method is deprecated and will be removed from pandas in a future version. Use pandas.concat instead.\n",
      "  zonas=zonas.append(ciudad.zonas,ignore_index=True)\n"
     ]
    },
    {
     "name": "stderr",
     "output_type": "stream",
     "text": [
      "C:\\Users\\camilafernandez_wabi\\AppData\\Local\\Programs\\Python\\Python310\\lib\\site-packages\\wabi\\maps_2b\\__init__.py:28: FutureWarning: The frame.append method is deprecated and will be removed from pandas in a future version. Use pandas.concat instead.\n",
      "  zonas=zonas.append(ciudad.zonas,ignore_index=True)\n",
      "C:\\Users\\camilafernandez_wabi\\AppData\\Local\\Programs\\Python\\Python310\\lib\\site-packages\\wabi\\maps_2b\\__init__.py:28: FutureWarning: The frame.append method is deprecated and will be removed from pandas in a future version. Use pandas.concat instead.\n",
      "  zonas=zonas.append(ciudad.zonas,ignore_index=True)\n",
      "C:\\Users\\camilafernandez_wabi\\AppData\\Local\\Programs\\Python\\Python310\\lib\\site-packages\\wabi\\maps_2b\\__init__.py:28: FutureWarning: The frame.append method is deprecated and will be removed from pandas in a future version. Use pandas.concat instead.\n",
      "  zonas=zonas.append(ciudad.zonas,ignore_index=True)\n"
     ]
    }
   ],
   "source": [
    "from wabi import sql_wabilytics, maps_2b"
   ]
  },
  {
   "cell_type": "code",
   "execution_count": 4,
   "id": "a480f45b",
   "metadata": {},
   "outputs": [],
   "source": [
    "stores_wallets = \"\"\"\n",
    "SELECT \n",
    "\ts.wabipay_account\n",
    "FROM wabiRojo.stores s \n",
    "WHERE s.wabipay_account IS NOT NULL\n",
    "LIMIT 4;\n",
    "\"\"\""
   ]
  },
  {
   "cell_type": "code",
   "execution_count": 5,
   "id": "26ca08e9",
   "metadata": {},
   "outputs": [],
   "source": [
    "stores_df = sql_wabilytics.querySQL(stores_wallets,'wabiRojo')"
   ]
  },
  {
   "cell_type": "code",
   "execution_count": 6,
   "id": "24ad8f20",
   "metadata": {},
   "outputs": [
    {
     "data": {
      "text/html": [
       "<div>\n",
       "<style scoped>\n",
       "    .dataframe tbody tr th:only-of-type {\n",
       "        vertical-align: middle;\n",
       "    }\n",
       "\n",
       "    .dataframe tbody tr th {\n",
       "        vertical-align: top;\n",
       "    }\n",
       "\n",
       "    .dataframe thead th {\n",
       "        text-align: right;\n",
       "    }\n",
       "</style>\n",
       "<table border=\"1\" class=\"dataframe\">\n",
       "  <thead>\n",
       "    <tr style=\"text-align: right;\">\n",
       "      <th></th>\n",
       "      <th>wabipay_account</th>\n",
       "    </tr>\n",
       "  </thead>\n",
       "  <tbody>\n",
       "    <tr>\n",
       "      <th>0</th>\n",
       "      <td>ws.padua.m</td>\n",
       "    </tr>\n",
       "    <tr>\n",
       "      <th>1</th>\n",
       "      <td>ws.ruasaojorge</td>\n",
       "    </tr>\n",
       "    <tr>\n",
       "      <th>2</th>\n",
       "      <td>ws.caetanogarbelotto</td>\n",
       "    </tr>\n",
       "    <tr>\n",
       "      <th>3</th>\n",
       "      <td>ws.palomar.cap.rosales</td>\n",
       "    </tr>\n",
       "  </tbody>\n",
       "</table>\n",
       "</div>"
      ],
      "text/plain": [
       "          wabipay_account\n",
       "0              ws.padua.m\n",
       "1          ws.ruasaojorge\n",
       "2    ws.caetanogarbelotto\n",
       "3  ws.palomar.cap.rosales"
      ]
     },
     "execution_count": 6,
     "metadata": {},
     "output_type": "execute_result"
    }
   ],
   "source": [
    "stores_df"
   ]
  },
  {
   "cell_type": "code",
   "execution_count": 7,
   "id": "0d639327",
   "metadata": {},
   "outputs": [
    {
     "name": "stdout",
     "output_type": "stream",
     "text": [
      "Got it!\n"
     ]
    }
   ],
   "source": [
    "graphql2pay.bypassToken()\n",
    "access_token = graphql2pay.token"
   ]
  },
  {
   "cell_type": "code",
   "execution_count": 8,
   "id": "06211251",
   "metadata": {},
   "outputs": [],
   "source": [
    "def query_maker(i,token):\n",
    "    \n",
    "    query = '''\n",
    "    query{\n",
    "  findUserByUsername(input:{\n",
    "    username:\"'''+stores_df.loc[i,'wabipay_account']+'''\"\n",
    "    accessToken:\"'''+token+'''\"\n",
    "  }){\n",
    "    ... on User{\n",
    "      username\n",
    "      wallet{\n",
    "        ... on Wallet{\n",
    "          name\n",
    "          id\n",
    "          \n",
    "          \n",
    "        }\n",
    "        \n",
    "      }\n",
    "    }\n",
    "  }\n",
    "}\n",
    "    '''\n",
    "    return query"
   ]
  },
  {
   "cell_type": "code",
   "execution_count": 9,
   "id": "e0b225ce",
   "metadata": {},
   "outputs": [],
   "source": [
    "results = [] #esto será una lista de diccionarios\n",
    "url = 'https://api.prod.yopago.app/graphql'\n",
    "for i in range(0,len(stores_df)):\n",
    "    query = query_maker(i,access_token)\n",
    "    response = req.post(url = url, json = {\"query\":query})\n",
    "    results.append(json.loads(response.content))"
   ]
  },
  {
   "cell_type": "code",
   "execution_count": 10,
   "id": "8d7b1fb5",
   "metadata": {},
   "outputs": [
    {
     "data": {
      "text/plain": [
       "[{'extensions': {'duration': 15788548},\n",
       "  'data': {'findUserByUsername': {'username': 'ws.padua.m',\n",
       "    'wallet': {'name': 'ws.padua.m',\n",
       "     'id': 'http://backend.yopago.local/wallet/8b07ad9c-c4d2-412c-91ea-6d36ee95d6c9'}}}},\n",
       " {'extensions': {'duration': 17281803},\n",
       "  'data': {'findUserByUsername': {'username': 'ws.ruasaojorge',\n",
       "    'wallet': {'name': 'ws.ruasaojorge',\n",
       "     'id': 'http://backend.yopago.local/wallet/b359abf5-17f6-4d0b-b1b1-e39aeca2e419'}}}},\n",
       " {'extensions': {'duration': 17589112},\n",
       "  'data': {'findUserByUsername': {'username': 'ws.caetanogarbelotto',\n",
       "    'wallet': {'name': 'ws.caetanogarbelotto',\n",
       "     'id': 'http://backend.yopago.local/wallet/1938412c-0a4d-40b3-8a1e-fe95f8fe2f69'}}}},\n",
       " {'extensions': {'duration': 13159741},\n",
       "  'data': {'findUserByUsername': {'username': 'ws.palomar.cap.rosales',\n",
       "    'wallet': {'name': 'ws.palomar.cap.rosales',\n",
       "     'id': 'http://backend.yopago.local/wallet/08c1966f-d3ab-4f34-b0d8-1d9459d9d006'}}}}]"
      ]
     },
     "execution_count": 10,
     "metadata": {},
     "output_type": "execute_result"
    }
   ],
   "source": [
    "results"
   ]
  },
  {
   "cell_type": "code",
   "execution_count": 11,
   "id": "1d34c87e",
   "metadata": {},
   "outputs": [
    {
     "name": "stdout",
     "output_type": "stream",
     "text": [
      "{'username': 'ws.padua.m', 'wallet': {'name': 'ws.padua.m', 'id': 'http://backend.yopago.local/wallet/8b07ad9c-c4d2-412c-91ea-6d36ee95d6c9'}}\n",
      "{'username': 'ws.ruasaojorge', 'wallet': {'name': 'ws.ruasaojorge', 'id': 'http://backend.yopago.local/wallet/b359abf5-17f6-4d0b-b1b1-e39aeca2e419'}}\n",
      "{'username': 'ws.caetanogarbelotto', 'wallet': {'name': 'ws.caetanogarbelotto', 'id': 'http://backend.yopago.local/wallet/1938412c-0a4d-40b3-8a1e-fe95f8fe2f69'}}\n",
      "{'username': 'ws.palomar.cap.rosales', 'wallet': {'name': 'ws.palomar.cap.rosales', 'id': 'http://backend.yopago.local/wallet/08c1966f-d3ab-4f34-b0d8-1d9459d9d006'}}\n"
     ]
    }
   ],
   "source": [
    "i = 0\n",
    "results_df = pd.DataFrame()\n",
    "for json_result in results:\n",
    "    if json_result['data']['findUserByUsername']:\n",
    "        print(json_result['data']['findUserByUsername'])\n",
    "        results_df.loc[i,'wabipay_account'] = stores_df.loc[i,'wabipay_account']\n",
    "        results_df.loc[i,'username_graphQL'] = json_result['data']['findUserByUsername']['username']\n",
    "        results_df.loc[i,'name_graphQL'] = json_result['data']['findUserByUsername']['wallet']['name']\n",
    "        results_df.loc[i,'id_graphQL'] = json_result['data']['findUserByUsername']['wallet']['id']\n",
    "        i+=1\n",
    "        \n",
    "        \n",
    "            \n",
    "            \n",
    "    "
   ]
  },
  {
   "cell_type": "code",
   "execution_count": 12,
   "id": "a65d47a4",
   "metadata": {},
   "outputs": [
    {
     "data": {
      "text/html": [
       "<div>\n",
       "<style scoped>\n",
       "    .dataframe tbody tr th:only-of-type {\n",
       "        vertical-align: middle;\n",
       "    }\n",
       "\n",
       "    .dataframe tbody tr th {\n",
       "        vertical-align: top;\n",
       "    }\n",
       "\n",
       "    .dataframe thead th {\n",
       "        text-align: right;\n",
       "    }\n",
       "</style>\n",
       "<table border=\"1\" class=\"dataframe\">\n",
       "  <thead>\n",
       "    <tr style=\"text-align: right;\">\n",
       "      <th></th>\n",
       "      <th>wabipay_account</th>\n",
       "      <th>username_graphQL</th>\n",
       "      <th>name_graphQL</th>\n",
       "    </tr>\n",
       "  </thead>\n",
       "  <tbody>\n",
       "    <tr>\n",
       "      <th>0</th>\n",
       "      <td>ws.padua.m</td>\n",
       "      <td>ws.padua.m</td>\n",
       "      <td>http://backend.yopago.local/wallet/8b07ad9c-c4...</td>\n",
       "    </tr>\n",
       "    <tr>\n",
       "      <th>1</th>\n",
       "      <td>ws.ruasaojorge</td>\n",
       "      <td>ws.ruasaojorge</td>\n",
       "      <td>http://backend.yopago.local/wallet/b359abf5-17...</td>\n",
       "    </tr>\n",
       "    <tr>\n",
       "      <th>2</th>\n",
       "      <td>ws.caetanogarbelotto</td>\n",
       "      <td>ws.caetanogarbelotto</td>\n",
       "      <td>http://backend.yopago.local/wallet/1938412c-0a...</td>\n",
       "    </tr>\n",
       "    <tr>\n",
       "      <th>3</th>\n",
       "      <td>ws.palomar.cap.rosales</td>\n",
       "      <td>ws.palomar.cap.rosales</td>\n",
       "      <td>http://backend.yopago.local/wallet/08c1966f-d3...</td>\n",
       "    </tr>\n",
       "  </tbody>\n",
       "</table>\n",
       "</div>"
      ],
      "text/plain": [
       "          wabipay_account        username_graphQL  \\\n",
       "0              ws.padua.m              ws.padua.m   \n",
       "1          ws.ruasaojorge          ws.ruasaojorge   \n",
       "2    ws.caetanogarbelotto    ws.caetanogarbelotto   \n",
       "3  ws.palomar.cap.rosales  ws.palomar.cap.rosales   \n",
       "\n",
       "                                        name_graphQL  \n",
       "0  http://backend.yopago.local/wallet/8b07ad9c-c4...  \n",
       "1  http://backend.yopago.local/wallet/b359abf5-17...  \n",
       "2  http://backend.yopago.local/wallet/1938412c-0a...  \n",
       "3  http://backend.yopago.local/wallet/08c1966f-d3...  "
      ]
     },
     "execution_count": 12,
     "metadata": {},
     "output_type": "execute_result"
    }
   ],
   "source": [
    "results_df"
   ]
  }
 ],
 "metadata": {
  "kernelspec": {
   "display_name": "Python 3 (ipykernel)",
   "language": "python",
   "name": "python3"
  },
  "language_info": {
   "codemirror_mode": {
    "name": "ipython",
    "version": 3
   },
   "file_extension": ".py",
   "mimetype": "text/x-python",
   "name": "python",
   "nbconvert_exporter": "python",
   "pygments_lexer": "ipython3",
   "version": "3.10.6"
  }
 },
 "nbformat": 4,
 "nbformat_minor": 5
}
